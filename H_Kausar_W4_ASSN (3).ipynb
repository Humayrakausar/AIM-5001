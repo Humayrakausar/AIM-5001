{
 "cells": [
  {
   "cell_type": "code",
   "execution_count": 1,
   "metadata": {},
   "outputs": [
    {
     "name": "stdout",
     "output_type": "stream",
     "text": [
      "[2 4]\n"
     ]
    }
   ],
   "source": [
    "# load the numpy library into your Python environment\n",
    "import numpy as np\n",
    "\n",
    "# Question 1:\n",
    "\n",
    "a = np.array([1, 2, 3, 2, 3, 4, 3, 4, 5, 6])\n",
    "b = np.array([7, 2, 10, 2, 7, 4, 9, 4, 9, 8])\n",
    "# Use intersect to get the common values between two arrays\n",
    "\n",
    "print(np.intersect1d(a, b))"
   ]
  },
  {
   "cell_type": "code",
   "execution_count": 15,
   "metadata": {},
   "outputs": [
    {
     "data": {
      "text/plain": [
       "array([[ 1,  2,  3],\n",
       "       [ 4,  5,  6],\n",
       "       [ 7,  8,  9],\n",
       "       [10, 11, 12],\n",
       "       [13, 14, 15]])"
      ]
     },
     "execution_count": 15,
     "metadata": {},
     "output_type": "execute_result"
    }
   ],
   "source": [
    "# Question 2:\n",
    "\n",
    "# Create 5X3 array\n",
    "# create a array range of 15 elements\n",
    "\n",
    "np.arange(1, 16). reshape(5, 3)"
   ]
  },
  {
   "cell_type": "code",
   "execution_count": 19,
   "metadata": {},
   "outputs": [
    {
     "name": "stdout",
     "output_type": "stream",
     "text": [
      "[1, 7, 8, 15]\n",
      "[6, 11, 14, 19]\n"
     ]
    }
   ],
   "source": [
    "# Question 3:\n",
    "\n",
    "\n",
    "from collections import Counter\n",
    "\n",
    "import numpy as np\n",
    "\n",
    "a = np.array([12, 5, 7, 15, 3, 1, 8])\n",
    "b = np.array([14, 6, 3, 11, 19, 12, 5])\n",
    "\n",
    "# Used counter to remove the common elements between tow arrays\n",
    "\n",
    "ca = Counter(a)\n",
    "cb = Counter(b)\n",
    "\n",
    "a_a = sorted((ca - cb).elements())\n",
    "b_b = sorted((cb - ca).elements())\n",
    "\n",
    "print(a_a)\n",
    "print(b_b)"
   ]
  },
  {
   "cell_type": "code",
   "execution_count": 20,
   "metadata": {},
   "outputs": [
    {
     "data": {
      "text/plain": [
       "numpy.ndarray"
      ]
     },
     "execution_count": 20,
     "metadata": {},
     "output_type": "execute_result"
    }
   ],
   "source": [
    "# Question 5:\n",
    "\n",
    "import pandas\n",
    "import numpy as np\n",
    "\n",
    "# supress scientific notation\n",
    "np.set_printoptions(suppress = True)\n",
    "\n",
    "# read the data file from GitHub and convert to a NumPy ndarray object\n",
    "nyc_water = pandas.read_csv('https://raw.githubusercontent.com/jtopor/DAV-5400/master/Week4/Water_Consumption_In_The_New_York_City.csv').values\n",
    "\n",
    "# verify you have an ndarray object\n",
    "type(nyc_water)"
   ]
  },
  {
   "cell_type": "code",
   "execution_count": 21,
   "metadata": {},
   "outputs": [
    {
     "data": {
      "text/plain": [
       "array([1512. , 1506. , 1309. , 1382. , 1424. , 1465. , 1326. , 1351. ,\n",
       "       1447. , 1484. , 1402. , 1424. , 1469. , 1369. , 1368.5, 1357.7,\n",
       "       1325.7, 1297.9, 1205.5, 1219.5, 1237.2, 1240.4, 1184. , 1135.6,\n",
       "       1093.7, 1099.5, 1138. , 1069. , 1114. , 1098. , 1007.5, 1039. ,\n",
       "       1021. , 1009.1, 1006.1,  996. , 1009. , 1002. ,  990.2])"
      ]
     },
     "execution_count": 21,
     "metadata": {},
     "output_type": "execute_result"
    }
   ],
   "source": [
    "# Question 5A:\n",
    "\n",
    "# Used indexing to find the column valume of new york city water consumption\n",
    "\n",
    "nyc_water[:, 2]\n"
   ]
  },
  {
   "cell_type": "code",
   "execution_count": 23,
   "metadata": {},
   "outputs": [
    {
     "data": {
      "text/plain": [
       "1512.0"
      ]
     },
     "execution_count": 23,
     "metadata": {},
     "output_type": "execute_result"
    }
   ],
   "source": [
    "# Create a new array called water_consum with third column values\n",
    "\n",
    "water_consum = ([1512. , 1506. , 1309. , 1382. , 1424. , 1465. , 1326. , 1351. ,\n",
    "       1447. , 1484. , 1402. , 1424. , 1469. , 1369. , 1368.5, 1357.7,\n",
    "       1325.7, 1297.9, 1205.5, 1219.5, 1237.2, 1240.4, 1184. , 1135.6,\n",
    "       1093.7, 1099.5, 1138. , 1069. , 1114. , 1098. , 1007.5, 1039. ,\n",
    "       1021. , 1009.1, 1006.1,  996. , 1009. , 1002. ,  990.2])\n",
    "# used max function to find the maxium value of water_consum\n",
    "np.max(water_consum)"
   ]
  },
  {
   "cell_type": "code",
   "execution_count": 24,
   "metadata": {},
   "outputs": [
    {
     "data": {
      "text/plain": [
       "array([1979., 1980., 1981., 1982., 1983., 1984., 1985., 1986., 1987.,\n",
       "       1988., 1989., 1990., 1991., 1992., 1993., 1994., 1995., 1996.,\n",
       "       1997., 1998., 1999., 2000., 2001., 2002., 2003., 2004., 2005.,\n",
       "       2006., 2007., 2008., 2009., 2010., 2011., 2012., 2013., 2014.,\n",
       "       2015., 2016., 2017.])"
      ]
     },
     "execution_count": 24,
     "metadata": {},
     "output_type": "execute_result"
    }
   ],
   "source": [
    "# Question 5B:\n",
    "\n",
    "# Used indexing to find the column value of year \n",
    "\n",
    "nyc_water[:,0]"
   ]
  },
  {
   "cell_type": "code",
   "execution_count": 25,
   "metadata": {},
   "outputs": [
    {
     "data": {
      "text/plain": [
       "(39,)"
      ]
     },
     "execution_count": 25,
     "metadata": {},
     "output_type": "execute_result"
    }
   ],
   "source": [
    "# Create a new array called calen_year with first column values \n",
    "calen_year = ([1979., 1980., 1981., 1982., 1983., 1984., 1985., 1986., 1987.,\n",
    "       1988., 1989., 1990., 1991., 1992., 1993., 1994., 1995., 1996.,\n",
    "       1997., 1998., 1999., 2000., 2001., 2002., 2003., 2004., 2005.,\n",
    "       2006., 2007., 2008., 2009., 2010., 2011., 2012., 2013., 2014.,\n",
    "       2015., 2016., 2017.])\n",
    "\n",
    "# used shape to find out the total number of calender year \n",
    "np.shape(calen_year)"
   ]
  },
  {
   "cell_type": "code",
   "execution_count": 4,
   "metadata": {},
   "outputs": [
    {
     "data": {
      "text/plain": [
       "numpy.ndarray"
      ]
     },
     "execution_count": 4,
     "metadata": {},
     "output_type": "execute_result"
    }
   ],
   "source": [
    " import pandas\n",
    "import numpy as np\n",
    "\n",
    "# supress scientific notation\n",
    "np.set_printoptions(suppress = True)\n",
    "\n",
    "# read the data file from GitHub and convert to a NumPy ndarray object\n",
    "nyc_water = pandas.read_csv('https://raw.githubusercontent.com/jtopor/DAV-5400/master/Week4/Water_Consumption_In_The_New_York_City.csv').values\n",
    "\n",
    "# verify you have an ndarray object\n",
    "type(nyc_water)"
   ]
  },
  {
   "cell_type": "code",
   "execution_count": 5,
   "metadata": {},
   "outputs": [
    {
     "data": {
      "text/plain": [
       "array([213., 213., 185., 194., 198., 203., 182., 185., 197., 202., 191.,\n",
       "       194., 199., 184., 182., 179., 174., 169., 155., 155., 156., 155.,\n",
       "       148., 141., 136., 136., 141., 132., 137., 135., 123., 127., 123.,\n",
       "       121., 119., 118., 118., 117., 115.])"
      ]
     },
     "execution_count": 5,
     "metadata": {},
     "output_type": "execute_result"
    }
   ],
   "source": [
    "# Question 5C:\n",
    "\n",
    "# Used indexing to find the column value of per capita water consumption \n",
    "\n",
    "\n",
    "nyc_water[:,3]\n"
   ]
  },
  {
   "cell_type": "code",
   "execution_count": 7,
   "metadata": {},
   "outputs": [
    {
     "data": {
      "text/plain": [
       "160.30769230769232"
      ]
     },
     "execution_count": 7,
     "metadata": {},
     "output_type": "execute_result"
    }
   ],
   "source": [
    "\n",
    "per_cap_daily_consum = ([213., 213., 185., 194., 198., 203., 182., 185., 197., 202., 191.,\n",
    "       194., 199., 184., 182., 179., 174., 169., 155., 155., 156., 155.,\n",
    "       148., 141., 136., 136., 141., 132., 137., 135., 123., 127., 123.,\n",
    "       121., 119., 118., 118., 117., 115.])\n",
    "# used mean fuction to find the mean of the per capita daily water consumption in nyc\n",
    "np.mean(per_cap_daily_consum)"
   ]
  },
  {
   "cell_type": "code",
   "execution_count": 8,
   "metadata": {},
   "outputs": [
    {
     "data": {
      "text/plain": [
       "31.51894330370624"
      ]
     },
     "execution_count": 8,
     "metadata": {},
     "output_type": "execute_result"
    }
   ],
   "source": [
    "# Used std function to find the standard deviation of the per capita daily water consumption\n",
    "\n",
    "np.std(per_cap_daily_consum)\n"
   ]
  },
  {
   "cell_type": "code",
   "execution_count": 9,
   "metadata": {},
   "outputs": [
    {
     "data": {
      "text/plain": [
       "array([7102100. , 7071639. , 7089241. , 7109105. , 7181224. , 7234514. ,\n",
       "       7274054. , 7319246. , 7342476. , 7353719. , 7344175. , 7335650. ,\n",
       "       7374501. , 7428944. , 7506166. , 7570458. , 7633040. , 7697812. ,\n",
       "       7773443. , 7858259. , 7947660. , 8008278. , 8024963.5, 8041649. ,\n",
       "       8058334.5, 8075020. , 8091705.5, 8108391. , 8125076.5, 8141762. ,\n",
       "       8158447.5, 8175133. , 8284098. , 8361179. , 8422460. , 8471990. ,\n",
       "       8516502. , 8537673. , 8622698. ])"
      ]
     },
     "execution_count": 9,
     "metadata": {},
     "output_type": "execute_result"
    }
   ],
   "source": [
    "# Question 5D: \n",
    "\n",
    "# Used indexing to find the column value of new york city population\n",
    "\n",
    "nyc_water[:,1]\n"
   ]
  },
  {
   "cell_type": "code",
   "execution_count": 12,
   "metadata": {},
   "outputs": [
    {
     "name": "stdout",
     "output_type": "stream",
     "text": [
      "[-30461.   17602.   19864.   72119.   53290.   39540.   45192.   23230.\n",
      "  11243.   -9544.   -8525.   38851.   54443.   77222.   64292.   62582.\n",
      "  64772.   75631.   84816.   89401.   60618.   16685.5  16685.5  16685.5\n",
      "  16685.5  16685.5  16685.5  16685.5  16685.5  16685.5  16685.5 108965.\n",
      "  77081.   61281.   49530.   44512.   21171.   85025. ]\n"
     ]
    }
   ],
   "source": [
    "# saved the nyc population column values to nyc_pop\n",
    "\n",
    "nyc_pop = ([7102100. , 7071639. , 7089241. , 7109105. , 7181224. , 7234514. ,\n",
    "       7274054. , 7319246. , 7342476. , 7353719. , 7344175. , 7335650. ,\n",
    "       7374501. , 7428944. , 7506166. , 7570458. , 7633040. , 7697812. ,\n",
    "       7773443. , 7858259. , 7947660. , 8008278. , 8024963.5, 8041649. ,\n",
    "       8058334.5, 8075020. , 8091705.5, 8108391. , 8125076.5, 8141762. ,\n",
    "       8158447.5, 8175133. , 8284098. , 8361179. , 8422460. , 8471990. ,\n",
    "       8516502. , 8537673. , 8622698. ])\n",
    "\n",
    "# used np.diff fuction to find the changes in polpulation form year to year in nyc\n",
    "\n",
    "np.diff(nyc_pop)\n",
    "\n",
    "pop_diff = np.diff(nyc_pop)\n",
    "\n",
    "print(pop_diff)\n",
    "\n"
   ]
  },
  {
   "cell_type": "code",
   "execution_count": 16,
   "metadata": {},
   "outputs": [
    {
     "name": "stdout",
     "output_type": "stream",
     "text": [
      "[55.  65.  30.  25.   0.  40.  35.  30.  40.  55.  50.  60.   0.  50.\n",
      " 55.  50.  45.  40.  45.  40.  55.  35.   0.  65.  40.  55.  45.  35.\n",
      " 55.  65.  40.   0.  38.3 55.  43. ]\n"
     ]
    }
   ],
   "source": [
    "# Question 4:\n",
    "\n",
    "# created an array of total 35 days of cumulative bike ride from NYC to KEY WEST\n",
    "\n",
    "distance = np.array([55, 120, 150, 175, 175, 215, 250, 280, 320, 375, 425, 485, 485, 535, 590, 640, 685, 725, 770, 810,\n",
    "                    865, 900, 900, 965, 1005, 1060, 1105, 1140, 1195, 1260, 1300, 1300, 1338.3, 1393.3, 1436.3])\n",
    "\n",
    "# Used np.diff function to find the each day bike ride (from day 1st to day 35th) of total 35 days bike ride NYC to KEY WEST\n",
    "\n",
    "np.diff(distance)\n",
    "\n",
    "diff_arr = np.diff(distance)\n",
    "\n",
    "all_daily_distance = np.append(distance[0],diff_arr)\n",
    "print(all_daily_distance)"
   ]
  },
  {
   "cell_type": "code",
   "execution_count": null,
   "metadata": {},
   "outputs": [],
   "source": []
  }
 ],
 "metadata": {
  "kernelspec": {
   "display_name": "Python 3",
   "language": "python",
   "name": "python3"
  },
  "language_info": {
   "codemirror_mode": {
    "name": "ipython",
    "version": 3
   },
   "file_extension": ".py",
   "mimetype": "text/x-python",
   "name": "python",
   "nbconvert_exporter": "python",
   "pygments_lexer": "ipython3",
   "version": "3.8.3"
  }
 },
 "nbformat": 4,
 "nbformat_minor": 4
}
