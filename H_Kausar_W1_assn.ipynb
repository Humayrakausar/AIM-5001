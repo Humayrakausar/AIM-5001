{
 "cells": [
  {
   "cell_type": "markdown",
   "metadata": {},
   "source": [
    "https://github.com/Humayrakausar/AIM-5001/blob/master/congress-generic-ballot%20(1).zip\n",
    "https://projects.fivethirtyeight.com/congress-generic-ballot-polls/\n",
    "\n",
    "    \n",
    "The data sets are about presidential election going to take place in November 2020. In this data sets they conduct some survey regarding who is going to win the race for congress Democrats or Republicans. What persuaded me to choose this data sets are my avid interest in world politics. \n",
    "The questions will be asked regarding this data sets as follows:\n",
    "\n",
    "1: Name of the pollsters for the accuracy of the data.\n",
    "2: The contributors.\n",
    "3: Finally, which party has more chance to win the race for congress, and in what percentage they are ahead or behind of each other. \n",
    "I will be answering this above question by analyzing the sets. \n",
    "\n",
    "\n",
    "\n",
    "    \n",
    "    "
   ]
  }
 ],
 "metadata": {
  "kernelspec": {
   "display_name": "Python 3",
   "language": "python",
   "name": "python3"
  },
  "language_info": {
   "codemirror_mode": {
    "name": "ipython",
    "version": 3
   },
   "file_extension": ".py",
   "mimetype": "text/x-python",
   "name": "python",
   "nbconvert_exporter": "python",
   "pygments_lexer": "ipython3",
   "version": "3.8.3"
  }
 },
 "nbformat": 4,
 "nbformat_minor": 4
}
