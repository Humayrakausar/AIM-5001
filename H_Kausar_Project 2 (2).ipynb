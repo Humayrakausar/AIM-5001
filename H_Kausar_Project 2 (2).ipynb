{
 "cells": [
  {
   "cell_type": "markdown",
   "metadata": {},
   "source": [
    "# AIM 5001 - Project 2#"
   ]
  },
  {
   "cell_type": "markdown",
   "metadata": {},
   "source": [
    "*In this project I will be using a dataset on different kinds of traditional famous Indian dishes, and answers research questions based on the research findings.*\n",
    "\n",
    "The source of the dataset can be found [here](https://www.kaggle.com/nehaprabhavalkar/indian-food-101)"
   ]
  },
  {
   "cell_type": "code",
   "execution_count": 6,
   "metadata": {},
   "outputs": [
    {
     "data": {
      "text/html": [
       "<div>\n",
       "<style scoped>\n",
       "    .dataframe tbody tr th:only-of-type {\n",
       "        vertical-align: middle;\n",
       "    }\n",
       "\n",
       "    .dataframe tbody tr th {\n",
       "        vertical-align: top;\n",
       "    }\n",
       "\n",
       "    .dataframe thead th {\n",
       "        text-align: right;\n",
       "    }\n",
       "</style>\n",
       "<table border=\"1\" class=\"dataframe\">\n",
       "  <thead>\n",
       "    <tr style=\"text-align: right;\">\n",
       "      <th></th>\n",
       "      <th>name</th>\n",
       "      <th>ingredients</th>\n",
       "      <th>diet</th>\n",
       "      <th>prep_time</th>\n",
       "      <th>cook_time</th>\n",
       "      <th>flavor_profile</th>\n",
       "      <th>course</th>\n",
       "      <th>state</th>\n",
       "      <th>region</th>\n",
       "    </tr>\n",
       "  </thead>\n",
       "  <tbody>\n",
       "    <tr>\n",
       "      <th>0</th>\n",
       "      <td>Balu shahi</td>\n",
       "      <td>Maida flour, yogurt, oil, sugar</td>\n",
       "      <td>vegetarian</td>\n",
       "      <td>45</td>\n",
       "      <td>25</td>\n",
       "      <td>sweet</td>\n",
       "      <td>dessert</td>\n",
       "      <td>West Bengal</td>\n",
       "      <td>East</td>\n",
       "    </tr>\n",
       "    <tr>\n",
       "      <th>1</th>\n",
       "      <td>Boondi</td>\n",
       "      <td>Gram flour, ghee, sugar</td>\n",
       "      <td>vegetarian</td>\n",
       "      <td>80</td>\n",
       "      <td>30</td>\n",
       "      <td>sweet</td>\n",
       "      <td>dessert</td>\n",
       "      <td>Rajasthan</td>\n",
       "      <td>West</td>\n",
       "    </tr>\n",
       "    <tr>\n",
       "      <th>2</th>\n",
       "      <td>Gajar ka halwa</td>\n",
       "      <td>Carrots, milk, sugar, ghee, cashews, raisins</td>\n",
       "      <td>vegetarian</td>\n",
       "      <td>15</td>\n",
       "      <td>60</td>\n",
       "      <td>sweet</td>\n",
       "      <td>dessert</td>\n",
       "      <td>Punjab</td>\n",
       "      <td>North</td>\n",
       "    </tr>\n",
       "    <tr>\n",
       "      <th>3</th>\n",
       "      <td>Ghevar</td>\n",
       "      <td>Flour, ghee, kewra, milk, clarified butter, su...</td>\n",
       "      <td>vegetarian</td>\n",
       "      <td>15</td>\n",
       "      <td>30</td>\n",
       "      <td>sweet</td>\n",
       "      <td>dessert</td>\n",
       "      <td>Rajasthan</td>\n",
       "      <td>West</td>\n",
       "    </tr>\n",
       "    <tr>\n",
       "      <th>4</th>\n",
       "      <td>Gulab jamun</td>\n",
       "      <td>Milk powder, plain flour, baking powder, ghee,...</td>\n",
       "      <td>vegetarian</td>\n",
       "      <td>15</td>\n",
       "      <td>40</td>\n",
       "      <td>sweet</td>\n",
       "      <td>dessert</td>\n",
       "      <td>West Bengal</td>\n",
       "      <td>East</td>\n",
       "    </tr>\n",
       "  </tbody>\n",
       "</table>\n",
       "</div>"
      ],
      "text/plain": [
       "             name                                        ingredients  \\\n",
       "0      Balu shahi                    Maida flour, yogurt, oil, sugar   \n",
       "1          Boondi                            Gram flour, ghee, sugar   \n",
       "2  Gajar ka halwa       Carrots, milk, sugar, ghee, cashews, raisins   \n",
       "3          Ghevar  Flour, ghee, kewra, milk, clarified butter, su...   \n",
       "4     Gulab jamun  Milk powder, plain flour, baking powder, ghee,...   \n",
       "\n",
       "         diet  prep_time  cook_time flavor_profile   course        state  \\\n",
       "0  vegetarian         45         25          sweet  dessert  West Bengal   \n",
       "1  vegetarian         80         30          sweet  dessert    Rajasthan   \n",
       "2  vegetarian         15         60          sweet  dessert       Punjab   \n",
       "3  vegetarian         15         30          sweet  dessert    Rajasthan   \n",
       "4  vegetarian         15         40          sweet  dessert  West Bengal   \n",
       "\n",
       "  region  \n",
       "0   East  \n",
       "1   West  \n",
       "2  North  \n",
       "3   West  \n",
       "4   East  "
      ]
     },
     "execution_count": 6,
     "metadata": {},
     "output_type": "execute_result"
    }
   ],
   "source": [
    "# Import pandas\n",
    "import pandas as pd\n",
    "\n",
    "# Import numpy\n",
    "import numpy as np\n",
    "\n",
    "# Import Seirs and DataFrame\n",
    "from pandas import Series, DataFrame\n",
    "\n",
    "# load the pyplot function from the matplotlib library\n",
    "import matplotlib.pyplot as plt\n",
    "\n",
    "# Import seaborn \n",
    "import seaborn as sns\n",
    "\n",
    "df = 'https://raw.githubusercontent.com/Humayrakausar/AIM-5001/master/indian_food.csv'\n",
    "Indianf_df = pd.read_csv(df)\n",
    "\n",
    "# Use the head function to confirm the data loaded properly\n",
    "Indianf_df.head() "
   ]
  },
  {
   "cell_type": "markdown",
   "metadata": {},
   "source": [
    "# Introduction#"
   ]
  },
  {
   "cell_type": "markdown",
   "metadata": {},
   "source": [
    "*In this project, I have chosen to work on a dataset on Indian cuisine. This dataset consists of about 255 traditional famous Indian dishes, their ingredients, and place of origin. My research will be useful for those who are interested in Indian cuisine. More precisely for the tourists, and people from different culture inclined to experience Indian cuisine. People those who are vegetarian will find this research very useful, as this dataset consists of a large number vegetarian dishes. Indian cuisine reflects an eight thousand years of history of various groups and cultural interaction with the Indian subcontinent. It heavily influenced by religion, cultural choice, and traditions. Other cuisine across the world influenced by Indian cuisine, especially British cuisine, and middle eastern cuisine.*\n",
    "\n",
    "*The purpose of the analysis as follows:*\n",
    "<ol>\n",
    "<li> Find out the name of the dishes.</li>\n",
    "<li> Find out the preparation and cooking time for all the dishes</li>\n",
    "<li> Find out the diet prevailing in the Indian cuisine such as vegetarian and non-vegetarian dishes.</li>\n",
    "<li> Find out cooking and preparation time based on diet such vegetarian and non vegetarian.</li> \n",
    "<li> Find out cooking and preparation time based on the course and number of dishes of each of the course.</li> \n",
    "<li> Find out which flavour is more famous and holding a big place in Indian cuisine</li>\n"
   ]
  },
  {
   "cell_type": "markdown",
   "metadata": {},
   "source": [
    "# Data Summary#"
   ]
  },
  {
   "cell_type": "markdown",
   "metadata": {},
   "source": [
    "For this project I acquired the dataset form kaggle. The use case of the dataset as follows:\n",
    "<li> To learn preparing traditional Indian cuisine</li>\n",
    "<li> To learn origin of each of the dishes</li>\n",
    "<li> To learn of the famous dishes based on the region and state</li>\n",
    "<li> To know about different flavor of dishes</li>\n",
    "<li> The Ingredient use in Indian cuisine</li>\n",
    "<li> To know about vegetarian and non-vegetation dishes</li>\n",
    "<li> To know the preparation time and cooking time of Indian dishes</li>\n",
    "\n",
    "According to the website, the attributes of the data as follows:\n",
    "\n",
    "<li> Name : name of the dish</li>\n",
    "<li> Ingredients : main ingredients used</li>\n",
    "<li> Diet : type of diet - either vegetarian or non-vegetarian</li>\n",
    "<li> Prep_time : preparation time</li>\n",
    "<li> Cook_time : cooking time</li>\n",
    "<li> Flavor_profile : flavor profile includes whether the dish is spicy, sweet, bitter, etc</li>\n",
    "<li> Course : course of meal - starter, main course, dessert, etc</li>\n",
    "<li> State : state where the dish is famous or is originated</li>\n",
    "<li> Region : region where the state belongs </li>\n",
    "\n",
    "Data type as follows:\n",
    "     Column          Datatype  Category \n",
    "<li> Name        -   Object    Categorical/ Nominal</li> \n",
    "<li> Ingredients -   Object    Categorical/ Nominal</li>\n",
    "<li> Diet        -   Object    Categorical/ Ordinal</li>\n",
    "<li> Prep_time   -   int       Continous</li> \n",
    "<li> Cook_time   -   int       Continous</li>\n",
    "<li> Flavor_profile -Object    Categorical/Nominal</li>\n",
    "<li> Course        - Object    Categorical/Ordinal</li> \n",
    "<li> State         - Object    Categorical/Nominal</li>\n",
    "<li> Region        - Object    Categorical/Nominal</li>"
   ]
  },
  {
   "cell_type": "markdown",
   "metadata": {},
   "source": [
    "**Data transformation - Subset**"
   ]
  },
  {
   "cell_type": "markdown",
   "metadata": {},
   "source": [
    "*In this stage, I will limit my dataset to simplify the reseach by retaining only the columns I need to answer my research questions.* "
   ]
  },
  {
   "cell_type": "code",
   "execution_count": 7,
   "metadata": {},
   "outputs": [
    {
     "data": {
      "text/html": [
       "<div>\n",
       "<style scoped>\n",
       "    .dataframe tbody tr th:only-of-type {\n",
       "        vertical-align: middle;\n",
       "    }\n",
       "\n",
       "    .dataframe tbody tr th {\n",
       "        vertical-align: top;\n",
       "    }\n",
       "\n",
       "    .dataframe thead th {\n",
       "        text-align: right;\n",
       "    }\n",
       "</style>\n",
       "<table border=\"1\" class=\"dataframe\">\n",
       "  <thead>\n",
       "    <tr style=\"text-align: right;\">\n",
       "      <th></th>\n",
       "      <th>name</th>\n",
       "      <th>diet</th>\n",
       "      <th>prep_time</th>\n",
       "      <th>cook_time</th>\n",
       "      <th>flavor_profile</th>\n",
       "      <th>course</th>\n",
       "      <th>state</th>\n",
       "      <th>region</th>\n",
       "    </tr>\n",
       "  </thead>\n",
       "  <tbody>\n",
       "    <tr>\n",
       "      <th>0</th>\n",
       "      <td>Balu shahi</td>\n",
       "      <td>vegetarian</td>\n",
       "      <td>45</td>\n",
       "      <td>25</td>\n",
       "      <td>sweet</td>\n",
       "      <td>dessert</td>\n",
       "      <td>West Bengal</td>\n",
       "      <td>East</td>\n",
       "    </tr>\n",
       "    <tr>\n",
       "      <th>1</th>\n",
       "      <td>Boondi</td>\n",
       "      <td>vegetarian</td>\n",
       "      <td>80</td>\n",
       "      <td>30</td>\n",
       "      <td>sweet</td>\n",
       "      <td>dessert</td>\n",
       "      <td>Rajasthan</td>\n",
       "      <td>West</td>\n",
       "    </tr>\n",
       "    <tr>\n",
       "      <th>2</th>\n",
       "      <td>Gajar ka halwa</td>\n",
       "      <td>vegetarian</td>\n",
       "      <td>15</td>\n",
       "      <td>60</td>\n",
       "      <td>sweet</td>\n",
       "      <td>dessert</td>\n",
       "      <td>Punjab</td>\n",
       "      <td>North</td>\n",
       "    </tr>\n",
       "    <tr>\n",
       "      <th>3</th>\n",
       "      <td>Ghevar</td>\n",
       "      <td>vegetarian</td>\n",
       "      <td>15</td>\n",
       "      <td>30</td>\n",
       "      <td>sweet</td>\n",
       "      <td>dessert</td>\n",
       "      <td>Rajasthan</td>\n",
       "      <td>West</td>\n",
       "    </tr>\n",
       "    <tr>\n",
       "      <th>4</th>\n",
       "      <td>Gulab jamun</td>\n",
       "      <td>vegetarian</td>\n",
       "      <td>15</td>\n",
       "      <td>40</td>\n",
       "      <td>sweet</td>\n",
       "      <td>dessert</td>\n",
       "      <td>West Bengal</td>\n",
       "      <td>East</td>\n",
       "    </tr>\n",
       "  </tbody>\n",
       "</table>\n",
       "</div>"
      ],
      "text/plain": [
       "             name        diet  prep_time  cook_time flavor_profile   course  \\\n",
       "0      Balu shahi  vegetarian         45         25          sweet  dessert   \n",
       "1          Boondi  vegetarian         80         30          sweet  dessert   \n",
       "2  Gajar ka halwa  vegetarian         15         60          sweet  dessert   \n",
       "3          Ghevar  vegetarian         15         30          sweet  dessert   \n",
       "4     Gulab jamun  vegetarian         15         40          sweet  dessert   \n",
       "\n",
       "         state region  \n",
       "0  West Bengal   East  \n",
       "1    Rajasthan   West  \n",
       "2       Punjab  North  \n",
       "3    Rajasthan   West  \n",
       "4  West Bengal   East  "
      ]
     },
     "execution_count": 7,
     "metadata": {},
     "output_type": "execute_result"
    }
   ],
   "source": [
    "# Create a subset of the main dataframe \n",
    "\n",
    "sub_Indianf_df = Indianf_df[['name', 'diet', 'prep_time', 'cook_time', 'flavor_profile',\n",
    "                            'course','state', 'region']]\n",
    "# Use the head function to confirm the data loaded properly\n",
    "sub_Indianf_df.head()"
   ]
  },
  {
   "cell_type": "markdown",
   "metadata": {},
   "source": [
    "**Data transformation - Null Values**"
   ]
  },
  {
   "cell_type": "markdown",
   "metadata": {},
   "source": [
    "*Now I will check if there is any null value contain in the dataset*"
   ]
  },
  {
   "cell_type": "code",
   "execution_count": 8,
   "metadata": {},
   "outputs": [
    {
     "data": {
      "text/plain": [
       "name              0\n",
       "diet              0\n",
       "prep_time         0\n",
       "cook_time         0\n",
       "flavor_profile    0\n",
       "course            0\n",
       "state             0\n",
       "region            1\n",
       "dtype: int64"
      ]
     },
     "execution_count": 8,
     "metadata": {},
     "output_type": "execute_result"
    }
   ],
   "source": [
    "# Use the isnull function and sum to see if there are any null values in the data set.\n",
    "\n",
    "sub_Indianf_df.isnull().sum()"
   ]
  },
  {
   "cell_type": "markdown",
   "metadata": {},
   "source": [
    "*It appears the region column contains null values that I need to remove*"
   ]
  },
  {
   "cell_type": "code",
   "execution_count": 16,
   "metadata": {},
   "outputs": [
    {
     "name": "stdout",
     "output_type": "stream",
     "text": [
      "The number of rows including nulls is 255\n"
     ]
    }
   ],
   "source": [
    "# Count the number of rows as the research required to remove all the null values from the region column.\n",
    "x = sub_Indianf_df.shape[0]\n",
    "# Print the result\n",
    "print(\"The number of rows including nulls is\", x)"
   ]
  },
  {
   "cell_type": "markdown",
   "metadata": {},
   "source": [
    "*It appears the region column contains null values that I required to remove to conduct unbiased \n",
    "research and reach to the right answers of each of the research question. In order to remove the null values I use dropna function which I learnt from (http://localhost:8890/notebooks/Downloads/AIM-5001-SampleProject1.ipynb)*"
   ]
  },
  {
   "cell_type": "code",
   "execution_count": 10,
   "metadata": {},
   "outputs": [
    {
     "data": {
      "text/plain": [
       "name              0\n",
       "diet              0\n",
       "prep_time         0\n",
       "cook_time         0\n",
       "flavor_profile    0\n",
       "course            0\n",
       "state             0\n",
       "region            0\n",
       "dtype: int64"
      ]
     },
     "execution_count": 10,
     "metadata": {},
     "output_type": "execute_result"
    }
   ],
   "source": [
    "# Create a copy of the dataframe which will allow me remove the null values\n",
    "sub_Indianf_dfnonulls = sub_Indianf_df.copy()\n",
    "\n",
    "# Use dropna function to remove the null vlaues\n",
    "sub_Indianf_dfnonulls.dropna(subset=['prep_time', 'cook_time', 'flavor_profile', 'course',\n",
    "                                    'state', 'region'],inplace=True)\n",
    "\n",
    "# Again use isnull and sum function to check whether the null values removed properly. \n",
    "sub_Indianf_dfnonulls.isnull().sum()"
   ]
  },
  {
   "cell_type": "markdown",
   "metadata": {},
   "source": [
    "*It appears there is no null values exist in the dataset anymore*"
   ]
  },
  {
   "cell_type": "markdown",
   "metadata": {},
   "source": [
    "*Now check the row again just to see how many rows retained after deleting all the null values*"
   ]
  },
  {
   "cell_type": "code",
   "execution_count": 20,
   "metadata": {},
   "outputs": [
    {
     "name": "stdout",
     "output_type": "stream",
     "text": [
      "The number of rows retaind in my data frame is 254\n"
     ]
    }
   ],
   "source": [
    "# Check the number of rows of the latest datframe\n",
    "y = sub_Indianf_dfnonulls.shape[0]\n",
    "\n",
    "# Print the result\n",
    "print(\"The number of rows retaind in my data frame is\", y)\n"
   ]
  },
  {
   "cell_type": "markdown",
   "metadata": {},
   "source": [
    "**Data transformation - Negative Values**"
   ]
  },
  {
   "cell_type": "code",
   "execution_count": 11,
   "metadata": {
    "scrolled": true
   },
   "outputs": [
    {
     "data": {
      "text/html": [
       "<div>\n",
       "<style scoped>\n",
       "    .dataframe tbody tr th:only-of-type {\n",
       "        vertical-align: middle;\n",
       "    }\n",
       "\n",
       "    .dataframe tbody tr th {\n",
       "        vertical-align: top;\n",
       "    }\n",
       "\n",
       "    .dataframe thead th {\n",
       "        text-align: right;\n",
       "    }\n",
       "</style>\n",
       "<table border=\"1\" class=\"dataframe\">\n",
       "  <thead>\n",
       "    <tr style=\"text-align: right;\">\n",
       "      <th></th>\n",
       "      <th>name</th>\n",
       "      <th>diet</th>\n",
       "      <th>prep_time</th>\n",
       "      <th>cook_time</th>\n",
       "      <th>flavor_profile</th>\n",
       "      <th>course</th>\n",
       "      <th>state</th>\n",
       "      <th>region</th>\n",
       "    </tr>\n",
       "  </thead>\n",
       "  <tbody>\n",
       "    <tr>\n",
       "      <th>0</th>\n",
       "      <td>Balu shahi</td>\n",
       "      <td>vegetarian</td>\n",
       "      <td>45.0</td>\n",
       "      <td>25.0</td>\n",
       "      <td>sweet</td>\n",
       "      <td>dessert</td>\n",
       "      <td>West Bengal</td>\n",
       "      <td>East</td>\n",
       "    </tr>\n",
       "    <tr>\n",
       "      <th>1</th>\n",
       "      <td>Boondi</td>\n",
       "      <td>vegetarian</td>\n",
       "      <td>80.0</td>\n",
       "      <td>30.0</td>\n",
       "      <td>sweet</td>\n",
       "      <td>dessert</td>\n",
       "      <td>Rajasthan</td>\n",
       "      <td>West</td>\n",
       "    </tr>\n",
       "    <tr>\n",
       "      <th>2</th>\n",
       "      <td>Gajar ka halwa</td>\n",
       "      <td>vegetarian</td>\n",
       "      <td>15.0</td>\n",
       "      <td>60.0</td>\n",
       "      <td>sweet</td>\n",
       "      <td>dessert</td>\n",
       "      <td>Punjab</td>\n",
       "      <td>North</td>\n",
       "    </tr>\n",
       "    <tr>\n",
       "      <th>3</th>\n",
       "      <td>Ghevar</td>\n",
       "      <td>vegetarian</td>\n",
       "      <td>15.0</td>\n",
       "      <td>30.0</td>\n",
       "      <td>sweet</td>\n",
       "      <td>dessert</td>\n",
       "      <td>Rajasthan</td>\n",
       "      <td>West</td>\n",
       "    </tr>\n",
       "    <tr>\n",
       "      <th>4</th>\n",
       "      <td>Gulab jamun</td>\n",
       "      <td>vegetarian</td>\n",
       "      <td>15.0</td>\n",
       "      <td>40.0</td>\n",
       "      <td>sweet</td>\n",
       "      <td>dessert</td>\n",
       "      <td>West Bengal</td>\n",
       "      <td>East</td>\n",
       "    </tr>\n",
       "    <tr>\n",
       "      <th>...</th>\n",
       "      <td>...</td>\n",
       "      <td>...</td>\n",
       "      <td>...</td>\n",
       "      <td>...</td>\n",
       "      <td>...</td>\n",
       "      <td>...</td>\n",
       "      <td>...</td>\n",
       "      <td>...</td>\n",
       "    </tr>\n",
       "    <tr>\n",
       "      <th>250</th>\n",
       "      <td>Til Pitha</td>\n",
       "      <td>vegetarian</td>\n",
       "      <td>5.0</td>\n",
       "      <td>30.0</td>\n",
       "      <td>sweet</td>\n",
       "      <td>dessert</td>\n",
       "      <td>Assam</td>\n",
       "      <td>North East</td>\n",
       "    </tr>\n",
       "    <tr>\n",
       "      <th>251</th>\n",
       "      <td>Bebinca</td>\n",
       "      <td>vegetarian</td>\n",
       "      <td>20.0</td>\n",
       "      <td>60.0</td>\n",
       "      <td>sweet</td>\n",
       "      <td>dessert</td>\n",
       "      <td>Goa</td>\n",
       "      <td>West</td>\n",
       "    </tr>\n",
       "    <tr>\n",
       "      <th>252</th>\n",
       "      <td>Shufta</td>\n",
       "      <td>vegetarian</td>\n",
       "      <td>0.0</td>\n",
       "      <td>0.0</td>\n",
       "      <td>sweet</td>\n",
       "      <td>dessert</td>\n",
       "      <td>Jammu &amp; Kashmir</td>\n",
       "      <td>North</td>\n",
       "    </tr>\n",
       "    <tr>\n",
       "      <th>253</th>\n",
       "      <td>Mawa Bati</td>\n",
       "      <td>vegetarian</td>\n",
       "      <td>20.0</td>\n",
       "      <td>45.0</td>\n",
       "      <td>sweet</td>\n",
       "      <td>dessert</td>\n",
       "      <td>Madhya Pradesh</td>\n",
       "      <td>Central</td>\n",
       "    </tr>\n",
       "    <tr>\n",
       "      <th>254</th>\n",
       "      <td>Pinaca</td>\n",
       "      <td>vegetarian</td>\n",
       "      <td>0.0</td>\n",
       "      <td>0.0</td>\n",
       "      <td>sweet</td>\n",
       "      <td>dessert</td>\n",
       "      <td>Goa</td>\n",
       "      <td>West</td>\n",
       "    </tr>\n",
       "  </tbody>\n",
       "</table>\n",
       "<p>254 rows × 8 columns</p>\n",
       "</div>"
      ],
      "text/plain": [
       "               name        diet  prep_time  cook_time flavor_profile   course  \\\n",
       "0        Balu shahi  vegetarian       45.0       25.0          sweet  dessert   \n",
       "1            Boondi  vegetarian       80.0       30.0          sweet  dessert   \n",
       "2    Gajar ka halwa  vegetarian       15.0       60.0          sweet  dessert   \n",
       "3            Ghevar  vegetarian       15.0       30.0          sweet  dessert   \n",
       "4       Gulab jamun  vegetarian       15.0       40.0          sweet  dessert   \n",
       "..              ...         ...        ...        ...            ...      ...   \n",
       "250       Til Pitha  vegetarian        5.0       30.0          sweet  dessert   \n",
       "251         Bebinca  vegetarian       20.0       60.0          sweet  dessert   \n",
       "252          Shufta  vegetarian        0.0        0.0          sweet  dessert   \n",
       "253       Mawa Bati  vegetarian       20.0       45.0          sweet  dessert   \n",
       "254          Pinaca  vegetarian        0.0        0.0          sweet  dessert   \n",
       "\n",
       "               state      region  \n",
       "0        West Bengal        East  \n",
       "1          Rajasthan        West  \n",
       "2             Punjab       North  \n",
       "3          Rajasthan        West  \n",
       "4        West Bengal        East  \n",
       "..               ...         ...  \n",
       "250            Assam  North East  \n",
       "251              Goa        West  \n",
       "252  Jammu & Kashmir       North  \n",
       "253   Madhya Pradesh     Central  \n",
       "254              Goa        West  \n",
       "\n",
       "[254 rows x 8 columns]"
      ]
     },
     "execution_count": 11,
     "metadata": {},
     "output_type": "execute_result"
    }
   ],
   "source": [
    "# Replace all the -1 values with 0\n",
    "sub_Indianf_dfnonulls=sub_Indianf_dfnonulls.replace(-1,np.nan)\n",
    "\n",
    "sub_Indianf_dfnonulls=sub_Indianf_dfnonulls.replace('-1',np.nan)\n",
    "\n",
    "sub_Indianf_dfnonulls.fillna(0)"
   ]
  },
  {
   "cell_type": "markdown",
   "metadata": {},
   "source": [
    "*It appears I was able to deleted all the null values and replaces -1 values with 0 successfully*"
   ]
  },
  {
   "cell_type": "markdown",
   "metadata": {},
   "source": [
    " **Exploratory Data Analysis - Display the name of the dishes and find out prep and cook time**"
   ]
  },
  {
   "cell_type": "markdown",
   "metadata": {},
   "source": [
    "*In this stage of my research I will perform some Exploratory data analysis that will allow me to answer my research question. Also, I will do graphical presentation of the attributes to provide precise picture.* "
   ]
  },
  {
   "cell_type": "markdown",
   "metadata": {},
   "source": [
    "%matplotlib notebook"
   ]
  },
  {
   "cell_type": "code",
   "execution_count": 19,
   "metadata": {},
   "outputs": [
    {
     "data": {
      "text/plain": [
       "array(['Balu shahi', 'Boondi', 'Gajar ka halwa', 'Ghevar', 'Gulab jamun',\n",
       "       'Imarti', 'Jalebi', 'Kalakand', 'Lassi', 'Petha', 'Phirni',\n",
       "       'Rabri', 'Sheera', 'Singori', 'Sohan halwa', 'Chhena jalebi',\n",
       "       'Chhena poda', 'Cham cham', 'Kheer sagar', 'Ledikeni', 'Lyangcha',\n",
       "       'Malapua', 'Mihidana', 'Misti doi', 'Pantua', 'Pithe', 'Rasabali',\n",
       "       'Ras malai', 'Rasgulla', 'Sandesh', 'Adhirasam', 'Ariselu',\n",
       "       'Bandar laddu', 'Chikki', 'Dharwad pedha', 'Double ka meetha',\n",
       "       'Gavvalu', 'Kakinada khaja', 'Kuzhi paniyaram', 'Mysore pak',\n",
       "       'Obbattu holige', 'Palathalikalu', 'Poornalu', 'Pongal',\n",
       "       'Pootharekulu', 'Qubani ka meetha', 'Sheer korma', 'Unni Appam',\n",
       "       'Kajjikaya', 'Anarsa', 'Basundi', 'Dhondas', 'Doodhpak',\n",
       "       'Mahim halwa', 'Modak', 'Shankarpali', 'Shrikhand', 'Sutar feni',\n",
       "       'Maach Jhol', 'Chak Hao Kheer', 'Galho', 'Aloo gobi', 'Aloo tikki',\n",
       "       'Aloo matar', 'Aloo methi', 'Aloo shimla mirch', 'Bhatura',\n",
       "       'Bhindi masala', 'Biryani', 'Butter chicken', 'Chana masala',\n",
       "       'Chicken razala', 'Chicken Tikka masala', 'Chicken Tikka',\n",
       "       'Chole bhature', 'Daal baati churma', 'Daal puri', 'Dal makhani ',\n",
       "       'Dal tadka', 'Dum aloo', 'Poha', 'Fara', 'Kachori', 'Kadai paneer',\n",
       "       'Kadhi pakoda', 'Karela bharta', 'Kofta', 'Lauki ke kofte',\n",
       "       'Litti chokha', 'Makki di roti sarson da saag', 'Misi roti',\n",
       "       'Mushroom do pyaza', 'Mushroom matar', 'Navrattan korma',\n",
       "       'Palak paneer', 'Paneer butter masala', 'Paneer tikka masala',\n",
       "       'Paratha', 'Pattor', 'Pindi chana', 'Sattu ki roti',\n",
       "       'Shahi paneer', 'Shahi tukra', 'Vegetable jalfrezi',\n",
       "       'Tandoori Chicken', 'Tandoori Fish Tikka', 'Attu', 'Avial',\n",
       "       'Bisi bele bath', 'Currivepillai sadam ', 'Idiappam',\n",
       "       'Keerai kootu', 'Keerai sadam', 'Keerai poriyal', 'Beef Fry',\n",
       "       'Kootu', 'Kos kootu', 'Koshambri', 'Kothamali sadam',\n",
       "       'Kuzhakkattai', 'Kuzhambu', 'Papadum', 'Pesarattu',\n",
       "       'Chicken Varuval', 'Amti', 'Zunka', 'Saath', 'Bajri no rotlo',\n",
       "       'Coconut vadi', 'Chakali', 'Chevdo', 'Chorafali', 'Daal Dhokli',\n",
       "       'Kutchi dabeli', 'Dhokla', 'Dudhi halwa', 'Gatta curry',\n",
       "       'Gud papdi', 'Handwo', 'Jeera Aloo', 'Keri no ras', 'Khakhra',\n",
       "       'Khandvi', 'Kombdi vade', 'Laapsi', 'Koshimbir', 'Methi na Gota',\n",
       "       'Mohanthal', 'Muthiya', 'Patra', 'Pav Bhaji', 'Puri Bhaji',\n",
       "       'Sabudana Khichadi', 'Sev khamani', 'Sev tameta', 'Namakpara',\n",
       "       'Sukhdi', 'Surnoli', 'Thalipeeth', 'Undhiyu', 'Veg Kolhapuri',\n",
       "       'Vindaloo', 'Lilva Kachori', 'Khichu', 'Thepla', 'Khaman',\n",
       "       'Turiya Patra Vatana sabji', 'Churma Ladoo', 'Gheela Pitha',\n",
       "       'Alu Pitika', 'Masor tenga', 'Chingri malai curry', 'Goja',\n",
       "       'Haq Maas', 'Mishti Chholar Dal', 'Prawn malai curry', 'Shukto',\n",
       "       'Til Pitha', 'Bebinca', 'Mawa Bati'], dtype=object)"
      ]
     },
     "execution_count": 19,
     "metadata": {},
     "output_type": "execute_result"
    }
   ],
   "source": [
    "# To exhibits name of all the dishes\n",
    "sub_Indianf_dfnonulls[\"name\"].unique()\n"
   ]
  },
  {
   "cell_type": "markdown",
   "metadata": {},
   "source": [
    "*Name of all the dishes are above*"
   ]
  },
  {
   "cell_type": "code",
   "execution_count": 28,
   "metadata": {
    "scrolled": true
   },
   "outputs": [
    {
     "data": {
      "text/html": [
       "<div>\n",
       "<style scoped>\n",
       "    .dataframe tbody tr th:only-of-type {\n",
       "        vertical-align: middle;\n",
       "    }\n",
       "\n",
       "    .dataframe tbody tr th {\n",
       "        vertical-align: top;\n",
       "    }\n",
       "\n",
       "    .dataframe thead th {\n",
       "        text-align: right;\n",
       "    }\n",
       "</style>\n",
       "<table border=\"1\" class=\"dataframe\">\n",
       "  <thead>\n",
       "    <tr style=\"text-align: right;\">\n",
       "      <th></th>\n",
       "      <th>prep_time</th>\n",
       "      <th>cook_time</th>\n",
       "    </tr>\n",
       "  </thead>\n",
       "  <tbody>\n",
       "    <tr>\n",
       "      <th>count</th>\n",
       "      <td>224.000000</td>\n",
       "      <td>226.000000</td>\n",
       "    </tr>\n",
       "    <tr>\n",
       "      <th>mean</th>\n",
       "      <td>35.500000</td>\n",
       "      <td>38.973451</td>\n",
       "    </tr>\n",
       "    <tr>\n",
       "      <th>std</th>\n",
       "      <td>76.392837</td>\n",
       "      <td>49.522692</td>\n",
       "    </tr>\n",
       "    <tr>\n",
       "      <th>min</th>\n",
       "      <td>5.000000</td>\n",
       "      <td>2.000000</td>\n",
       "    </tr>\n",
       "    <tr>\n",
       "      <th>25%</th>\n",
       "      <td>10.000000</td>\n",
       "      <td>20.000000</td>\n",
       "    </tr>\n",
       "    <tr>\n",
       "      <th>50%</th>\n",
       "      <td>10.000000</td>\n",
       "      <td>30.000000</td>\n",
       "    </tr>\n",
       "    <tr>\n",
       "      <th>75%</th>\n",
       "      <td>20.000000</td>\n",
       "      <td>45.000000</td>\n",
       "    </tr>\n",
       "    <tr>\n",
       "      <th>max</th>\n",
       "      <td>500.000000</td>\n",
       "      <td>720.000000</td>\n",
       "    </tr>\n",
       "  </tbody>\n",
       "</table>\n",
       "</div>"
      ],
      "text/plain": [
       "        prep_time   cook_time\n",
       "count  224.000000  226.000000\n",
       "mean    35.500000   38.973451\n",
       "std     76.392837   49.522692\n",
       "min      5.000000    2.000000\n",
       "25%     10.000000   20.000000\n",
       "50%     10.000000   30.000000\n",
       "75%     20.000000   45.000000\n",
       "max    500.000000  720.000000"
      ]
     },
     "execution_count": 28,
     "metadata": {},
     "output_type": "execute_result"
    }
   ],
   "source": [
    "# Use describe function to figure out minimum, average and maximum prep_time and cook_time\n",
    "sub_Indianf_dfnonulls.describe()"
   ]
  },
  {
   "cell_type": "markdown",
   "metadata": {},
   "source": [
    "*From the information above, it can be stated that average preparation time and cooking time for Indian dishes are 35 minute and 39 minutes, respectively. The minimum prep time and cook time are 5 minutes and 2 minutes. The maximum prep time for Indian dishes is 500 minutes whilst maximum cook time is 720 minutes.*"
   ]
  },
  {
   "cell_type": "markdown",
   "metadata": {},
   "source": [
    "*First I will exhibits prep_time and cook_time for all the dishes*"
   ]
  },
  {
   "cell_type": "code",
   "execution_count": 14,
   "metadata": {
    "scrolled": false
   },
   "outputs": [
    {
     "data": {
      "text/plain": [
       "<matplotlib.axes._subplots.AxesSubplot at 0x1ce9c294af0>"
      ]
     },
     "execution_count": 14,
     "metadata": {},
     "output_type": "execute_result"
    },
    {
     "data": {
      "image/png": "[encoded data removed]",
      "text/plain": [
       "<Figure size 432x288 with 1 Axes>"
      ]
     },
     "metadata": {
      "needs_background": "light"
     },
     "output_type": "display_data"
    }
   ],
   "source": [
    "# Create a histogram to display the prep time\n",
    "sns.distplot(sub_Indianf_dfnonulls['prep_time'],color ='green')\n"
   ]
  },
  {
   "cell_type": "markdown",
   "metadata": {},
   "source": [
    "*From the graph above it can be stated the preparation time of most of the dishes are from 0 to approximately 30 minutes. The graph is skewed right, this means that the maximum preparation time is up to 500 minutes.*"
   ]
  },
  {
   "cell_type": "code",
   "execution_count": 14,
   "metadata": {
    "scrolled": true
   },
   "outputs": [
    {
     "data": {
      "text/plain": [
       "<matplotlib.axes._subplots.AxesSubplot at 0x268f5a22910>"
      ]
     },
     "execution_count": 14,
     "metadata": {},
     "output_type": "execute_result"
    },
    {
     "data": {
      "image/png": "[encoded data removed]",
      "text/plain": [
       "<Figure size 432x288 with 1 Axes>"
      ]
     },
     "metadata": {
      "needs_background": "light"
     },
     "output_type": "display_data"
    }
   ],
   "source": [
    "# Create a histogram to display the cook time of the dishes\n",
    "sns.distplot(sub_Indianf_dfnonulls['cook_time'],color ='purple')"
   ]
  },
  {
   "cell_type": "markdown",
   "metadata": {},
   "source": [
    "*From the graph above it can be stated the cooking time of most of the dishes are from 0 to approximately 1 hour. The graph is skewed right, this means that the maximum cooking time is a little over 700 minutes.*"
   ]
  },
  {
   "cell_type": "markdown",
   "metadata": {},
   "source": [
    " **Exploratory Data Analysis - Vegetarian and Non-Vegetarian dishes**"
   ]
  },
  {
   "cell_type": "markdown",
   "metadata": {},
   "source": [
    "*Here I will display the number of dishes based on diet such as Vegetarian and Non-Vegetarian*"
   ]
  },
  {
   "cell_type": "code",
   "execution_count": 14,
   "metadata": {},
   "outputs": [
    {
     "data": {
      "text/plain": [
       "diet\n",
       "non vegetarian     29\n",
       "vegetarian        225\n",
       "dtype: int64"
      ]
     },
     "execution_count": 14,
     "metadata": {},
     "output_type": "execute_result"
    }
   ],
   "source": [
    "# Define a new variable to get the number of Vegetarain and Non vegetarian dishes\n",
    "# I used size funtion to get  the number of Vegetarain and Non vegetarian dishes\n",
    "d_dishes_df = sub_Indianf_dfnonulls.groupby(['diet']).size()\n",
    "\n",
    "# To get the Number of Vegetarain and Non vegetarian dishes\n",
    "d_dishes_df"
   ]
  },
  {
   "cell_type": "code",
   "execution_count": 10,
   "metadata": {},
   "outputs": [
    {
     "data": {
      "text/plain": [
       "<BarContainer object of 2 artists>"
      ]
     },
     "execution_count": 10,
     "metadata": {},
     "output_type": "execute_result"
    },
    {
     "data": {
      "image/png": "[encoded data removed]",
      "text/plain": [
       "<Figure size 288x144 with 1 Axes>"
      ]
     },
     "metadata": {
      "needs_background": "light"
     },
     "output_type": "display_data"
    }
   ],
   "source": [
    "# Create a bar chart to visualize the number of vegetarian and non-vegetarian dishes\n",
    "\n",
    "Vegetarian = (sub_Indianf_dfnonulls['diet'].str[0].str.lower() == 'v').sum()\n",
    "\n",
    "NoVegetarian = (sub_Indianf_dfnonulls['diet'].str[0].str.lower() == 'n').sum()\n",
    "\n",
    "names = [\"Vegetarian\", \"Non-Vegetarian\"]\n",
    "values = [Vegetarian, NoVegetarian]\n",
    "\n",
    "fig, axs = plt.subplots(1, 1, figsize=(4, 2))\n",
    "axs.bar(names, values, width = 0.2)"
   ]
  },
  {
   "cell_type": "markdown",
   "metadata": {},
   "source": [
    "*From the bar chart above it can be stated that, a considerable number of dishes are veteratian at 225, whilst Non Vegetarian dishes are less 29.* "
   ]
  },
  {
   "cell_type": "markdown",
   "metadata": {},
   "source": [
    " **Exploratory Data Analysis - cooking and preparation time based on diet such as vegetarian and non vegetarian**"
   ]
  },
  {
   "cell_type": "markdown",
   "metadata": {},
   "source": [
    "*Here, I will display prep_time based on diet*"
   ]
  },
  {
   "cell_type": "code",
   "execution_count": 47,
   "metadata": {},
   "outputs": [
    {
     "data": {
      "text/plain": [
       "<matplotlib.axes._subplots.AxesSubplot at 0x240e72c9430>"
      ]
     },
     "execution_count": 47,
     "metadata": {},
     "output_type": "execute_result"
    },
    {
     "data": {
      "image/png": "[encoded data removed]",
      "text/plain": [
       "<Figure size 432x288 with 1 Axes>"
      ]
     },
     "metadata": {
      "needs_background": "light"
     },
     "output_type": "display_data"
    }
   ],
   "source": [
    "# Create a bar plot to visualize the prep_time variation of the dishes based on diet\n",
    "sns.barplot(x='prep_time', y='diet', data=sub_Indianf_dfnonulls, orient='h')"
   ]
  },
  {
   "cell_type": "markdown",
   "metadata": {},
   "source": [
    "*From the graph above it can be stated that Non vegetarian dishes take more prepreration time compared to vegetarian dishes.*"
   ]
  },
  {
   "cell_type": "code",
   "execution_count": 23,
   "metadata": {},
   "outputs": [
    {
     "data": {
      "text/plain": [
       "<matplotlib.axes._subplots.AxesSubplot at 0x268f5c33b20>"
      ]
     },
     "execution_count": 23,
     "metadata": {},
     "output_type": "execute_result"
    },
    {
     "data": {
      "image/png": "[encoded data removed]",
      "text/plain": [
       "<Figure size 432x288 with 1 Axes>"
      ]
     },
     "metadata": {
      "needs_background": "light"
     },
     "output_type": "display_data"
    }
   ],
   "source": [
    "# Create bar chart to visualize the cook time variation of the dishes based on diet\n",
    "sns.barplot(x='cook_time', y='diet', data=sub_Indianf_dfnonulls, orient='h')"
   ]
  },
  {
   "cell_type": "markdown",
   "metadata": {},
   "source": [
    "*From the graph above it can be asserted that vegetarian dishes take longer time to cook at about 30 minutes, than Non vegetarian dishes at about 25 minutes which is opposite of prep time of vegetarian dishes. The prep time of vegetarian dishes is shorter than non-vegetarian dishes*"
   ]
  },
  {
   "cell_type": "markdown",
   "metadata": {},
   "source": [
    " **Exploratory Data Analysis - Prep_time and Cook_time based on the course**"
   ]
  },
  {
   "cell_type": "markdown",
   "metadata": {},
   "source": [
    "*Now I will exhibits prep time and cook time based on the course*"
   ]
  },
  {
   "cell_type": "code",
   "execution_count": 23,
   "metadata": {},
   "outputs": [
    {
     "data": {
      "text/plain": [
       "course\n",
       "dessert         84\n",
       "main course    129\n",
       "snack           39\n",
       "starter          2\n",
       "dtype: int64"
      ]
     },
     "execution_count": 23,
     "metadata": {},
     "output_type": "execute_result"
    }
   ],
   "source": [
    "# Define a new variable called c_dishes_df to get the total number of each course\n",
    "# I used size function to get the total number of each of the course\n",
    "c_dishes_df = sub_Indianf_dfnonulls.groupby(['course']).size()\n",
    "\n",
    "# To get the total number of each of the course \n",
    "c_dishes_df"
   ]
  },
  {
   "cell_type": "markdown",
   "metadata": {},
   "source": [
    "*From the information above it can be stated that the largest number of main course at 129 dishes are in Indian cuisine compared to other courses, this means that main courses are more famous compared to other courses followed by dessert at 84 types.*"
   ]
  },
  {
   "cell_type": "code",
   "execution_count": 18,
   "metadata": {},
   "outputs": [
    {
     "data": {
      "text/plain": [
       "<matplotlib.axes._subplots.AxesSubplot at 0x1ad2ba6f490>"
      ]
     },
     "execution_count": 18,
     "metadata": {},
     "output_type": "execute_result"
    },
    {
     "data": {
      "image/png": "[encoded data removed]",
      "text/plain": [
       "<Figure size 432x288 with 1 Axes>"
      ]
     },
     "metadata": {
      "needs_background": "light"
     },
     "output_type": "display_data"
    }
   ],
   "source": [
    "# Create a barplot to visualize the prep time variation by course\n",
    "sns.barplot(x='prep_time', y='course', data=sub_Indianf_dfnonulls, orient='h')"
   ]
  },
  {
   "cell_type": "markdown",
   "metadata": {},
   "source": [
    "*From the graph above it can be said that the starter takes considerably longer prep time than other courses, whilst the main course takes the shortest prep time among the courses.* "
   ]
  },
  {
   "cell_type": "code",
   "execution_count": 22,
   "metadata": {},
   "outputs": [
    {
     "data": {
      "text/plain": [
       "<matplotlib.axes._subplots.AxesSubplot at 0x268f5bd2c10>"
      ]
     },
     "execution_count": 22,
     "metadata": {},
     "output_type": "execute_result"
    },
    {
     "data": {
      "image/png": "[encoded data removed]",
      "text/plain": [
       "<Figure size 432x288 with 1 Axes>"
      ]
     },
     "metadata": {
      "needs_background": "light"
     },
     "output_type": "display_data"
    }
   ],
   "source": [
    "# Create a barplot to visualize the cook time variation by course \n",
    "sns.barplot(x='cook_time', y='course', data=sub_Indianf_dfnonulls, orient='h')"
   ]
  },
  {
   "cell_type": "markdown",
   "metadata": {},
   "source": [
    "*From the graph above it can be stated that the dessert takes longer cook time compared to other courses, whilst the snack takes shortest time.*"
   ]
  },
  {
   "cell_type": "code",
   "execution_count": 24,
   "metadata": {},
   "outputs": [
    {
     "data": {
      "text/plain": [
       "flavor_profile\n",
       "bitter      4\n",
       "sour        1\n",
       "spicy     133\n",
       "sweet      87\n",
       "dtype: int64"
      ]
     },
     "execution_count": 24,
     "metadata": {},
     "output_type": "execute_result"
    }
   ],
   "source": [
    "# Define a new variable to called flv_dishes_df to find out the number of dishes based on flavour\n",
    "flv_dishes_df = sub_Indianf_dfnonulls.groupby(['flavor_profile']).size()\n",
    "\n",
    "# To get the number of dishes based on flavour\n",
    "flv_dishes_df"
   ]
  },
  {
   "cell_type": "markdown",
   "metadata": {},
   "source": [
    "*From the information above it can be stated that the spicy dishes are more famous in Indian cuisine. The largest number of spicy dishes made it substantial.*"
   ]
  },
  {
   "cell_type": "markdown",
   "metadata": {},
   "source": [
    "### Answers of the research Questions"
   ]
  },
  {
   "cell_type": "markdown",
   "metadata": {},
   "source": [
    "<ol>\n",
    "<li> Find out the name of the dishes.</li>\n",
    "<li> Find out the preparation and cooking time for all the dishes</li>\n",
    "<li> Find out the diet prevailing in the Indian cuisine such as vegetarian and non-vegetarian dishes.</li>\n",
    "<li> Find out cooking and preparation time based on diet such vegetarian and non vegetarian.</li> \n",
    "<li> Find out cooking and preparation time based on the course and number of dishes of each of the course.</li> \n",
    "<li> Find out which flavour is more famous and holding a big place in Indian cuisine</li>"
   ]
  },
  {
   "cell_type": "markdown",
   "metadata": {},
   "source": [
    " **Find out the name of the dishes.**"
   ]
  },
  {
   "cell_type": "markdown",
   "metadata": {},
   "source": [
    "All the dishes name are stated above, "
   ]
  },
  {
   "cell_type": "markdown",
   "metadata": {},
   "source": [
    "**Find out the preparation and cooking time for all the dishes**"
   ]
  },
  {
   "cell_type": "markdown",
   "metadata": {},
   "source": [
    "*The preparation time of most of the dishes are from 0 to approximately 30 minutes. The graph is skewed right, this means that the maximum preparation time is up to 500 minutes.The cooking time of most of the dishes are from 5 minutes to approximately 1 hour. The graph is skewed right, this means that the maximum cooking time is a little over 700 minutes.*"
   ]
  },
  {
   "cell_type": "markdown",
   "metadata": {},
   "source": [
    "**Find out the diet prevailing in the Indian cuisine such as vegetarian and non-vegetarian dishes**"
   ]
  },
  {
   "cell_type": "markdown",
   "metadata": {},
   "source": [
    " *A considerable number of dishes are vegetarian at above 225, whilst Non Vegetarian dishes are less 29.* "
   ]
  },
  {
   "cell_type": "markdown",
   "metadata": {},
   "source": [
    "**Find out cooking and preparation time based on diet such vegetarian and non vegetarian**"
   ]
  },
  {
   "cell_type": "markdown",
   "metadata": {},
   "source": [
    "*Non vegetarian dishes take more prepreration time at about 45 minutes compared to vegetarian dishes at about 25 minutes. Vegetarian dishes take longer time to cook at about 30 minutes, than Non vegetarian dishes at about 25 minutes which is opposite of prep time of vegetarian dishes. The prep time of vegetarian dishes is shorter than non-vegetarian dishes*"
   ]
  },
  {
   "cell_type": "markdown",
   "metadata": {},
   "source": [
    "**Find out cooking and preparation time based on the course and number of dishes of each of the course**"
   ]
  },
  {
   "cell_type": "markdown",
   "metadata": {},
   "source": [
    "*The starter takes considerably longer prep time at about 1 hour and 15 minutes then other courses, whilst the main course takes the shortest prep time at about 25 minutes among the courses. The dessert takes longer cook time at about 45 minutes compared to other courses, whilst the snack takes shortest time at about 28 minutes.The largest number of main course at 129 dishes are in Indian cuisine compared to other courses, this means that main courses are more famous compared to other courses followed by dessert at 84 types*"
   ]
  },
  {
   "cell_type": "markdown",
   "metadata": {},
   "source": [
    "**Find out which flavour is more famous and holding a big place in Indian cuisine**"
   ]
  },
  {
   "cell_type": "markdown",
   "metadata": {},
   "source": [
    "*The spicy dishes are more famous in Indian cuisine. The largest number of spicy dishes at 133 made it substantial.*"
   ]
  },
  {
   "cell_type": "markdown",
   "metadata": {},
   "source": [
    "### Conclusion"
   ]
  },
  {
   "cell_type": "markdown",
   "metadata": {},
   "source": [
    "*The purpose of this research was to inform about the different dishes of Indian cuisine, and number of dishes based on diet. From this research it can be stated that vegetarian dishes at 255 are prevailing in Indian cuisine, therefore, I would recommend for the people those who are vegetarian to try those dishes. Also, find out the prep time and cook time based on diet. Within 1 and 15 anyone can prepare and cook vegetarian or non-vegetarian dish. The research aim was to find out prep time and cook time based on the course. From the research it can be stated that the starter takes considerably longer prep time about 1 hour 15 minutes, whilst main course takes the shortest prep time at about 25 minutes. The dessert takes longer cook time at about 45 minutes compared to other courses, whilst the snack takes shortest time at about 28 minutes. Anyone wants to learn to cook Indian cuisine might find this research useful. People those who loves spicy food I would recommend Indian cuisine.There are 133 spicy dishes are includes in Indian cuisine*  "
   ]
  },
  {
   "cell_type": "markdown",
   "metadata": {},
   "source": [
    "### References"
   ]
  },
  {
   "cell_type": "markdown",
   "metadata": {},
   "source": [
    "https://www.kaggle.com/nehaprabhavalkar/indian-food-101\n",
    "\n",
    "http://localhost:8890/notebooks/Downloads/AIM-5001-Week7-LectureNotes%20(1).ipynb\n",
    "\n",
    "http://localhost:8890/notebooks/Downloads/AIM-5001-SampleProject1.ipynb\n",
    "\n",
    "http://localhost:8890/notebooks/Downloads/h_kausar_Project1.ipynb"
   ]
  }
 ],
 "metadata": {
  "kernelspec": {
   "display_name": "Python 3",
   "language": "python",
   "name": "python3"
  },
  "language_info": {
   "codemirror_mode": {
    "name": "ipython",
    "version": 3
   },
   "file_extension": ".py",
   "mimetype": "text/x-python",
   "name": "python",
   "nbconvert_exporter": "python",
   "pygments_lexer": "ipython3",
   "version": "3.8.3"
  }
 },
 "nbformat": 4,
 "nbformat_minor": 4
}
