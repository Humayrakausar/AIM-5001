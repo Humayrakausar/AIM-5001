{
 "cells": [
  {
   "cell_type": "code",
   "execution_count": 1,
   "metadata": {},
   "outputs": [
    {
     "data": {
      "text/plain": [
       "'555-1239Moe Szyslak(636) 555-0113Burns, C. Montgomery555 -6542Rev. Timothy Lovejoy555 8904Ned Flanders636-555-3226Simpson, Homer5553642Dr. Julius Hibbert'"
      ]
     },
     "execution_count": 1,
     "metadata": {},
     "output_type": "execute_result"
    }
   ],
   "source": [
    "# load the re module\n",
    "import re\n",
    "\n",
    "# Import pandas\n",
    "import pandas as pd\n",
    "\n",
    "name_str = \"555-1239Moe Szyslak(636) 555-0113Burns, C. Montgomery555 -6542Rev. Timothy Lovejoy555 8904Ned Flanders636-555-3226Simpson, Homer5553642Dr. Julius Hibbert\"\n",
    "name_str"
   ]
  },
  {
   "cell_type": "markdown",
   "metadata": {},
   "source": [
    "**Question 1:  Extract the names of each individual from the unformatted text string and store them in a vector of some\n",
    "sort. When complete, your vector should contain the following entries:\n",
    "\"Moe Szyslak\" \"Burns, C. Montgomery\" \"Rev. Timothy Lovejoy\"\n",
    "\"Ned Flanders\" \"Simpson,Homer\" \"Dr. Julius Hibbert\"**"
   ]
  },
  {
   "cell_type": "code",
   "execution_count": 2,
   "metadata": {},
   "outputs": [
    {
     "data": {
      "text/plain": [
       "['Moe Szyslak',\n",
       " 'Burns, C. Montgomery',\n",
       " 'Rev. Timothy Lovejoy',\n",
       " 'Ned Flanders',\n",
       " 'Simpson, Homer',\n",
       " 'Dr. Julius Hibbert']"
      ]
     },
     "execution_count": 2,
     "metadata": {},
     "output_type": "execute_result"
    }
   ],
   "source": [
    "# To extract the names of each individual\n",
    "\n",
    "pattern = r'[A-Z][a-zA-Z\\s\\,\\.]+[a-z]'\n",
    "\n",
    "# Create a compiled regex and assign it to the name 'name'\n",
    "name = re.compile(pattern)\n",
    "\n",
    "#Use the findall() function to extract the names of each individual from the unformatted text string\n",
    "\n",
    "indv_name = name.findall(name_str)\n",
    "\n",
    "indv_name"
   ]
  },
  {
   "cell_type": "markdown",
   "metadata": {},
   "source": [
    "**Question 2A:  Use your regex skills to rearrange the vector so that all elements conform to the standard\n",
    "“firstname lastname”, preserving any titles (e.g., “Rev.”, “Dr.”, etc) or middle/second names.**"
   ]
  },
  {
   "cell_type": "code",
   "execution_count": 3,
   "metadata": {},
   "outputs": [
    {
     "data": {
      "text/plain": [
       "['Moe Szyslak',\n",
       " 'MontgomeryC.Burns',\n",
       " 'Rev. Timothy Lovejoy',\n",
       " 'Ned Flanders',\n",
       " 'Dr. Julius Hibbert']"
      ]
     },
     "execution_count": 3,
     "metadata": {},
     "output_type": "execute_result"
    }
   ],
   "source": [
    "# To rearrange the vector so that all elements conform to the standard “firstname lastname”, \n",
    "# preserving any titles (e.g., “Rev.”, “Dr.”, etc) or middle/second names\n",
    "# To pattern middle name \n",
    "\n",
    "pattern_mdl_name = r'([\\w]+)\\s*,\\s*([\\w]+.)\\s([\\w]+)'\n",
    "\n",
    "# Create a compiled regex and assign it to the name 'mdl_name'\n",
    "\n",
    "mdl_name = re.compile(pattern_mdl_name)\n",
    "\n",
    "#To pattern fist and last name \n",
    "\n",
    "pattern_comma_name = r'([\\w]+),\\s([\\w]+)'\n",
    "\n",
    "# Create a compiled regex and assign it to the name 'comma_name'\n",
    "\n",
    "comma_name = re.compile(pattern_comma_name)\n",
    "\n",
    "# Create a list \n",
    "\n",
    "ordered_name_list = []\n",
    "\n",
    "# Use for loop to loop through all the individual names\n",
    "\n",
    "for name in indv_name:\n",
    "\n",
    "    # For the names that have a comma and a space \n",
    "\n",
    "    contain_last_first = name.find(\",\")\n",
    "\n",
    "    # If a string carry \",\", will be identified \" last name, first name\"\n",
    "\n",
    "    if contain_last_first > 0:\n",
    "\n",
    "       # To split the individuals name by space \n",
    "\n",
    "       ind_lens_large_2 = re.split('\\s+', name)\n",
    "\n",
    "\n",
    "       # To split the individuals name by comma\n",
    "\n",
    "       contain_comma = re.split(',+', name)\n",
    "\n",
    "       # If the name consists of three parts \n",
    "\n",
    "       if len(ind_lens_large_2) > 2:\n",
    "\n",
    "           # To trace all the middle name\n",
    "\n",
    "            m = mdl_name.match(name)\n",
    "\n",
    "            if m:   \n",
    "                    n = m.group(3) + '' + m.group(2) + '' + m.group(1)\n",
    "                    ordered_name_list.append(n)\n",
    "    \n",
    "            # If a name contain comma ','   \n",
    "\n",
    "            elif len(contain_comma) > 1:\n",
    "    \n",
    "             # To trace all the first and last name\n",
    "\n",
    "             m = contain_comma.match(name)\n",
    "\n",
    "             if m:\n",
    "                    n = m.group(2) + '' + m.group(1)\n",
    "                    ordered_name_list.append(n)\n",
    "    \n",
    "    else:\n",
    "        ordered_name_list.append(name)\n",
    "\n",
    "ordered_name_list"
   ]
  },
  {
   "cell_type": "markdown",
   "metadata": {},
   "source": [
    "**Question 2B:Construct a logical vector indicating whether a character has a title (i.e., Rev. and Dr.)**"
   ]
  },
  {
   "cell_type": "code",
   "execution_count": 5,
   "metadata": {},
   "outputs": [
    {
     "data": {
      "text/plain": [
       "0             Moe Szyslak\n",
       "1       MontgomeryC.Burns\n",
       "2    Rev. Timothy Lovejoy\n",
       "3            Ned Flanders\n",
       "4      Dr. Julius Hibbert\n",
       "dtype: object"
      ]
     },
     "execution_count": 5,
     "metadata": {},
     "output_type": "execute_result"
    }
   ],
   "source": [
    "# Define a pandas series \n",
    "\n",
    "indname_df = pd.Series(ordered_name_list)\n",
    "# To get the series of the individual names\n",
    "indname_df"
   ]
  },
  {
   "cell_type": "code",
   "execution_count": 6,
   "metadata": {},
   "outputs": [
    {
     "data": {
      "text/plain": [
       "0    False\n",
       "1    False\n",
       "2     True\n",
       "3    False\n",
       "4     True\n",
       "dtype: bool"
      ]
     },
     "execution_count": 6,
     "metadata": {},
     "output_type": "execute_result"
    }
   ],
   "source": [
    "# To figure out whether the name carry a title.\n",
    "\n",
    "indname_df.str.contains('Rev.|Dr.')\n"
   ]
  },
  {
   "cell_type": "markdown",
   "metadata": {},
   "source": [
    "**Question 2C:Construct a logical vector indicating whether a character has a middle/second name**"
   ]
  },
  {
   "cell_type": "code",
   "execution_count": 7,
   "metadata": {},
   "outputs": [
    {
     "data": {
      "text/plain": [
       "0    False\n",
       "1    False\n",
       "2    False\n",
       "3    False\n",
       "4    False\n",
       "dtype: bool"
      ]
     },
     "execution_count": 7,
     "metadata": {},
     "output_type": "execute_result"
    }
   ],
   "source": [
    "# Define a regex to construct a logical vector indicating whether a character has a middle name\n",
    "pattern_m = r' [A-z]{1}\\. '\n",
    "indname_df.str.contains(pattern_m)"
   ]
  },
  {
   "cell_type": "markdown",
   "metadata": {},
   "source": [
    "**Question 3:  Consider the HTML string <title>+++BREAKING NEWS+++<title>. We would like to extract the first HTML tag\n",
    "(i.e., “<title>”). To do so we write the regular expression “<.+>”. Explain why this fails and correct the expression.**"
   ]
  },
  {
   "cell_type": "code",
   "execution_count": 8,
   "metadata": {},
   "outputs": [
    {
     "data": {
      "text/plain": [
       "['<title>+++BREAKING NEWS+++<title>']"
      ]
     },
     "execution_count": 8,
     "metadata": {},
     "output_type": "execute_result"
    }
   ],
   "source": [
    "htmlstr =  '<title>+++BREAKING NEWS+++<title>'\n",
    "pattern = r'<.+>'\n",
    "\n",
    "#Create a compiled regex and assign it to the name 'reg'\n",
    "reg = re.compile (pattern, flags=re.IGNORECASE)\n",
    "\n",
    "# Use findall function() to get result\n",
    "reg.findall(htmlstr)\n"
   ]
  },
  {
   "cell_type": "markdown",
   "metadata": {},
   "source": [
    "**\"+\" is a greedy quantifier that matches as many characters as possible**"
   ]
  },
  {
   "cell_type": "markdown",
   "metadata": {},
   "source": [
    "*I can correct this expression by adding \"?\" to the expression to let the system know that I am searching for the shortest possible sequence of any character that placed before \">\".*"
   ]
  },
  {
   "cell_type": "code",
   "execution_count": 9,
   "metadata": {},
   "outputs": [
    {
     "data": {
      "text/plain": [
       "['<title>', '<title>']"
      ]
     },
     "execution_count": 9,
     "metadata": {},
     "output_type": "execute_result"
    }
   ],
   "source": [
    "\n",
    "pattern_c = r'<.+?>'\n",
    "\n",
    "# Create a compiled regex and assign it to the name 'reg_c'\n",
    "reg_c = re.compile (pattern_c, flags=re.IGNORECASE)\n",
    "\n",
    "# Use findall funtion () to find all the matches \n",
    "correct_exp = reg_c.findall(htmlstr)\n",
    "\n",
    "# To get the correct expression\n",
    "correct_exp\n",
    "\n"
   ]
  },
  {
   "cell_type": "code",
   "execution_count": 11,
   "metadata": {},
   "outputs": [
    {
     "name": "stdout",
     "output_type": "stream",
     "text": [
      "<title>\n"
     ]
    }
   ],
   "source": [
    "# To separate the first title \n",
    "\n",
    "if len(correct_exp)>0:\n",
    "    print(correct_exp[0])"
   ]
  },
  {
   "cell_type": "markdown",
   "metadata": {},
   "source": [
    "**Question 4: Consider the string “(5-3)^2=5^2-2*5*3+3^2” conforms to the binomial theorem. We would like to extract\n",
    "the formula in the string. To do so we write the regular expression “[^0-9=+*()]+”. Explain why this fails and correct the\n",
    "expression.**\n"
   ]
  },
  {
   "cell_type": "code",
   "execution_count": 12,
   "metadata": {},
   "outputs": [
    {
     "data": {
      "text/plain": [
       "['-', '^', '^', '-', '^']"
      ]
     },
     "execution_count": 12,
     "metadata": {},
     "output_type": "execute_result"
    }
   ],
   "source": [
    "formula = '(5-3)^2=5^2-2*5*3+3^2'\n",
    "\n",
    "pattern_f = r'[^0-9=+*()]+'\n",
    "\n",
    "# Create a compiled regex and assign it to the name 'reg_f'\n",
    "reg_f = re.compile (pattern_f, flags=re.IGNORECASE)\n",
    "\n",
    "# Use findall funtion () to find the formula\n",
    "reg_f.findall(formula)\n"
   ]
  },
  {
   "cell_type": "markdown",
   "metadata": {},
   "source": [
    "**The reason that the above expression fails as \"^\" interpret as \"not\" in the charater class**"
   ]
  },
  {
   "cell_type": "markdown",
   "metadata": {},
   "source": [
    "**To correct this expression I can add \"-\"**"
   ]
  },
  {
   "cell_type": "code",
   "execution_count": 13,
   "metadata": {},
   "outputs": [
    {
     "data": {
      "text/plain": [
       "['(5-3)^2=5^2-2*5*3+3^2']"
      ]
     },
     "execution_count": 13,
     "metadata": {},
     "output_type": "execute_result"
    }
   ],
   "source": [
    "pattern_cf = r'[0-9\\^()*+-=]+'\n",
    "\n",
    "# Create a compiled regex and assign it to the name 'reg_cf'\n",
    "reg_cf = re.compile (pattern_cf, flags=re.IGNORECASE)\n",
    "\n",
    "# Use findall funtion () to correct the expression\n",
    "reg_cf.findall(formula)\n"
   ]
  }
 ],
 "metadata": {
  "kernelspec": {
   "display_name": "Python 3",
   "language": "python",
   "name": "python3"
  },
  "language_info": {
   "codemirror_mode": {
    "name": "ipython",
    "version": 3
   },
   "file_extension": ".py",
   "mimetype": "text/x-python",
   "name": "python",
   "nbconvert_exporter": "python",
   "pygments_lexer": "ipython3",
   "version": "3.8.3"
  }
 },
 "nbformat": 4,
 "nbformat_minor": 4
}
